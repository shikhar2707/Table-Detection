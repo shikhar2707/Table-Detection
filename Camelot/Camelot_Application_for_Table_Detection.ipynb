{
 "cells": [
  {
   "cell_type": "code",
   "execution_count": 9,
   "metadata": {},
   "outputs": [
    {
     "name": "stdout",
     "output_type": "stream",
     "text": [
      "Requirement already satisfied: camelot-py in f:\\users\\hp\\anaconda3\\lib\\site-packages (0.7.2)\n",
      "Requirement already satisfied: openpyxl>=2.5.8 in f:\\users\\hp\\anaconda3\\lib\\site-packages (from camelot-py) (2.6.2)\n",
      "Requirement already satisfied: pandas>=0.23.4 in f:\\users\\hp\\anaconda3\\lib\\site-packages (from camelot-py) (0.23.4)\n",
      "Requirement already satisfied: pdfminer.six>=20170720 in f:\\users\\hp\\anaconda3\\lib\\site-packages (from camelot-py) (20181108)\n",
      "Requirement already satisfied: PyPDF2>=1.26.0 in f:\\users\\hp\\anaconda3\\lib\\site-packages (from camelot-py) (1.26.0)\n",
      "Requirement already satisfied: click>=6.7 in f:\\users\\hp\\anaconda3\\lib\\site-packages (from camelot-py) (6.7)\n",
      "Requirement already satisfied: chardet>=3.0.4 in f:\\users\\hp\\anaconda3\\lib\\site-packages (from camelot-py) (3.0.4)\n",
      "Requirement already satisfied: numpy>=1.13.3 in f:\\users\\hp\\anaconda3\\lib\\site-packages (from camelot-py) (1.15.1)\n",
      "Requirement already satisfied: jdcal in f:\\users\\hp\\anaconda3\\lib\\site-packages (from openpyxl>=2.5.8->camelot-py) (1.4)\n",
      "Requirement already satisfied: et-xmlfile in f:\\users\\hp\\anaconda3\\lib\\site-packages (from openpyxl>=2.5.8->camelot-py) (1.0.1)\n",
      "Requirement already satisfied: python-dateutil>=2.5.0 in f:\\users\\hp\\anaconda3\\lib\\site-packages (from pandas>=0.23.4->camelot-py) (2.7.3)\n",
      "Requirement already satisfied: pytz>=2011k in f:\\users\\hp\\anaconda3\\lib\\site-packages (from pandas>=0.23.4->camelot-py) (2018.5)\n",
      "Requirement already satisfied: six in f:\\users\\hp\\anaconda3\\lib\\site-packages (from pdfminer.six>=20170720->camelot-py) (1.11.0)\n",
      "Requirement already satisfied: pycryptodome in f:\\users\\hp\\anaconda3\\lib\\site-packages (from pdfminer.six>=20170720->camelot-py) (3.8.1)\n",
      "Requirement already satisfied: sortedcontainers in f:\\users\\hp\\anaconda3\\lib\\site-packages (from pdfminer.six>=20170720->camelot-py) (2.0.5)\n"
     ]
    }
   ],
   "source": [
    "!pip install camelot-py"
   ]
  },
  {
   "cell_type": "code",
   "execution_count": 7,
   "metadata": {},
   "outputs": [
    {
     "name": "stdout",
     "output_type": "stream",
     "text": [
      "Requirement already satisfied: opencv-python in f:\\users\\hp\\anaconda3\\lib\\site-packages (4.1.0.25)\n",
      "Requirement already satisfied: numpy>=1.14.5 in f:\\users\\hp\\anaconda3\\lib\\site-packages (from opencv-python) (1.15.1)\n"
     ]
    }
   ],
   "source": [
    "!pip install opencv-python"
   ]
  },
  {
   "cell_type": "code",
   "execution_count": 22,
   "metadata": {},
   "outputs": [
    {
     "name": "stdout",
     "output_type": "stream",
     "text": [
      "<TableList n=1>\n"
     ]
    }
   ],
   "source": [
    "import camelot\n",
    "import pandas as pd\n",
    "import matplotlib as plt\n",
    "\n",
    "tables = camelot.read_pdf(\"foo.pdf\")\n",
    "print(tables)"
   ]
  },
  {
   "cell_type": "code",
   "execution_count": 2,
   "metadata": {},
   "outputs": [
    {
     "name": "stdout",
     "output_type": "stream",
     "text": [
      "              0            1                2                     3  \\\n",
      "0  Cycle \\nName  KI \\n(1/km)  Distance \\n(mi)  Percent Fuel Savings   \n",
      "1                                                  Improved \\nSpeed   \n",
      "2        2012_2         3.30              1.3                  5.9%   \n",
      "3        2145_1         0.68             11.2                  2.4%   \n",
      "4        4234_1         0.59             58.7                  8.5%   \n",
      "5        2032_2         0.17             57.8                 21.7%   \n",
      "6        4171_1         0.07            173.9                 58.1%   \n",
      "\n",
      "                   4                  5                 6  \n",
      "0                                                          \n",
      "1  Decreased \\nAccel  Eliminate \\nStops  Decreased \\nIdle  \n",
      "2               9.5%              29.2%             17.4%  \n",
      "3               0.1%               9.5%              2.7%  \n",
      "4               1.3%               8.5%              3.3%  \n",
      "5               0.3%               2.7%              1.2%  \n",
      "6               1.6%               2.1%              0.5%  \n"
     ]
    },
    {
     "ename": "PermissionError",
     "evalue": "[Errno 13] Permission denied: 'foo.pdf'",
     "output_type": "error",
     "traceback": [
      "\u001b[1;31m---------------------------------------------------------------------------\u001b[0m",
      "\u001b[1;31mPermissionError\u001b[0m                           Traceback (most recent call last)",
      "\u001b[1;32m<ipython-input-2-465207add20a>\u001b[0m in \u001b[0;36m<module>\u001b[1;34m()\u001b[0m\n\u001b[0;32m      1\u001b[0m \u001b[0mfirst_table\u001b[0m \u001b[1;33m=\u001b[0m \u001b[0mtables\u001b[0m\u001b[1;33m[\u001b[0m\u001b[1;36m0\u001b[0m\u001b[1;33m]\u001b[0m\u001b[1;33m.\u001b[0m\u001b[0mdf\u001b[0m\u001b[1;33m\u001b[0m\u001b[0m\n\u001b[0;32m      2\u001b[0m \u001b[0mprint\u001b[0m \u001b[1;33m(\u001b[0m\u001b[0mfirst_table\u001b[0m\u001b[1;33m)\u001b[0m\u001b[1;33m\u001b[0m\u001b[0m\n\u001b[1;32m----> 3\u001b[1;33m \u001b[0mfirst_table\u001b[0m\u001b[1;33m.\u001b[0m\u001b[0mto_json\u001b[0m\u001b[1;33m(\u001b[0m\u001b[1;34m\"foo.pdf\"\u001b[0m\u001b[1;33m)\u001b[0m\u001b[1;33m\u001b[0m\u001b[0m\n\u001b[0m",
      "\u001b[1;32mF:\\Users\\hp\\Anaconda3\\lib\\site-packages\\pandas\\core\\generic.py\u001b[0m in \u001b[0;36mto_json\u001b[1;34m(self, path_or_buf, orient, date_format, double_precision, force_ascii, date_unit, default_handler, lines, compression, index)\u001b[0m\n\u001b[0;32m   1889\u001b[0m                             \u001b[0mdefault_handler\u001b[0m\u001b[1;33m=\u001b[0m\u001b[0mdefault_handler\u001b[0m\u001b[1;33m,\u001b[0m\u001b[1;33m\u001b[0m\u001b[0m\n\u001b[0;32m   1890\u001b[0m                             \u001b[0mlines\u001b[0m\u001b[1;33m=\u001b[0m\u001b[0mlines\u001b[0m\u001b[1;33m,\u001b[0m \u001b[0mcompression\u001b[0m\u001b[1;33m=\u001b[0m\u001b[0mcompression\u001b[0m\u001b[1;33m,\u001b[0m\u001b[1;33m\u001b[0m\u001b[0m\n\u001b[1;32m-> 1891\u001b[1;33m                             index=index)\n\u001b[0m\u001b[0;32m   1892\u001b[0m \u001b[1;33m\u001b[0m\u001b[0m\n\u001b[0;32m   1893\u001b[0m     \u001b[1;32mdef\u001b[0m \u001b[0mto_hdf\u001b[0m\u001b[1;33m(\u001b[0m\u001b[0mself\u001b[0m\u001b[1;33m,\u001b[0m \u001b[0mpath_or_buf\u001b[0m\u001b[1;33m,\u001b[0m \u001b[0mkey\u001b[0m\u001b[1;33m,\u001b[0m \u001b[1;33m**\u001b[0m\u001b[0mkwargs\u001b[0m\u001b[1;33m)\u001b[0m\u001b[1;33m:\u001b[0m\u001b[1;33m\u001b[0m\u001b[0m\n",
      "\u001b[1;32mF:\\Users\\hp\\Anaconda3\\lib\\site-packages\\pandas\\io\\json\\json.py\u001b[0m in \u001b[0;36mto_json\u001b[1;34m(path_or_buf, obj, orient, date_format, double_precision, force_ascii, date_unit, default_handler, lines, compression, index)\u001b[0m\n\u001b[0;32m     62\u001b[0m \u001b[1;33m\u001b[0m\u001b[0m\n\u001b[0;32m     63\u001b[0m     \u001b[1;32mif\u001b[0m \u001b[0misinstance\u001b[0m\u001b[1;33m(\u001b[0m\u001b[0mpath_or_buf\u001b[0m\u001b[1;33m,\u001b[0m \u001b[0mcompat\u001b[0m\u001b[1;33m.\u001b[0m\u001b[0mstring_types\u001b[0m\u001b[1;33m)\u001b[0m\u001b[1;33m:\u001b[0m\u001b[1;33m\u001b[0m\u001b[0m\n\u001b[1;32m---> 64\u001b[1;33m         \u001b[0mfh\u001b[0m\u001b[1;33m,\u001b[0m \u001b[0mhandles\u001b[0m \u001b[1;33m=\u001b[0m \u001b[0m_get_handle\u001b[0m\u001b[1;33m(\u001b[0m\u001b[0mpath_or_buf\u001b[0m\u001b[1;33m,\u001b[0m \u001b[1;34m'w'\u001b[0m\u001b[1;33m,\u001b[0m \u001b[0mcompression\u001b[0m\u001b[1;33m=\u001b[0m\u001b[0mcompression\u001b[0m\u001b[1;33m)\u001b[0m\u001b[1;33m\u001b[0m\u001b[0m\n\u001b[0m\u001b[0;32m     65\u001b[0m         \u001b[1;32mtry\u001b[0m\u001b[1;33m:\u001b[0m\u001b[1;33m\u001b[0m\u001b[0m\n\u001b[0;32m     66\u001b[0m             \u001b[0mfh\u001b[0m\u001b[1;33m.\u001b[0m\u001b[0mwrite\u001b[0m\u001b[1;33m(\u001b[0m\u001b[0ms\u001b[0m\u001b[1;33m)\u001b[0m\u001b[1;33m\u001b[0m\u001b[0m\n",
      "\u001b[1;32mF:\\Users\\hp\\Anaconda3\\lib\\site-packages\\pandas\\io\\common.py\u001b[0m in \u001b[0;36m_get_handle\u001b[1;34m(path_or_buf, mode, encoding, compression, memory_map, is_text)\u001b[0m\n\u001b[0;32m    401\u001b[0m         \u001b[1;32melif\u001b[0m \u001b[0mis_text\u001b[0m\u001b[1;33m:\u001b[0m\u001b[1;33m\u001b[0m\u001b[0m\n\u001b[0;32m    402\u001b[0m             \u001b[1;31m# Python 3 and no explicit encoding\u001b[0m\u001b[1;33m\u001b[0m\u001b[1;33m\u001b[0m\u001b[0m\n\u001b[1;32m--> 403\u001b[1;33m             \u001b[0mf\u001b[0m \u001b[1;33m=\u001b[0m \u001b[0mopen\u001b[0m\u001b[1;33m(\u001b[0m\u001b[0mpath_or_buf\u001b[0m\u001b[1;33m,\u001b[0m \u001b[0mmode\u001b[0m\u001b[1;33m,\u001b[0m \u001b[0merrors\u001b[0m\u001b[1;33m=\u001b[0m\u001b[1;34m'replace'\u001b[0m\u001b[1;33m)\u001b[0m\u001b[1;33m\u001b[0m\u001b[0m\n\u001b[0m\u001b[0;32m    404\u001b[0m         \u001b[1;32melse\u001b[0m\u001b[1;33m:\u001b[0m\u001b[1;33m\u001b[0m\u001b[0m\n\u001b[0;32m    405\u001b[0m             \u001b[1;31m# Python 3 and binary mode\u001b[0m\u001b[1;33m\u001b[0m\u001b[1;33m\u001b[0m\u001b[0m\n",
      "\u001b[1;31mPermissionError\u001b[0m: [Errno 13] Permission denied: 'foo.pdf'"
     ]
    }
   ],
   "source": [
    "first_table = tables[0].df\n",
    "print (first_table)\n",
    "first_table.to_json(\"foo.json\")"
   ]
  },
  {
   "cell_type": "code",
   "execution_count": 12,
   "metadata": {},
   "outputs": [],
   "source": [
    "first_table.to_json(\"foo.json\")\n"
   ]
  },
  {
   "cell_type": "code",
   "execution_count": 58,
   "metadata": {},
   "outputs": [
    {
     "name": "stdout",
     "output_type": "stream",
     "text": [
      "                                                0\n",
      "0  0Tco :(120.47812499999999, 233.77499999999998)\n",
      "1                          0Bco :(164.64, 218.43)\n",
      "2                       0Content :Cycle \\nName \\n\n",
      "                                    0\n",
      "0  0Tco :(164.64, 233.77499999999998)\n",
      "1  0Bco :(204.95999999999998, 218.43)\n",
      "2            0Content :KI \\n(1/km) \\n\n",
      "                                                0\n",
      "0  0Tco :(204.95999999999998, 233.77499999999998)\n",
      "1                          0Bco :(257.52, 218.43)\n",
      "2                    0Content :Distance \\n(mi) \\n\n",
      "                                    0\n",
      "0  0Tco :(257.52, 233.77499999999998)\n",
      "1               0Bco :(313.2, 218.43)\n",
      "2   0Content :Percent Fuel Savings \\n\n",
      "                                   0\n",
      "0  0Tco :(313.2, 233.77499999999998)\n",
      "1             0Bco :(374.64, 218.43)\n",
      "2                         0Content :\n",
      "                                    0\n",
      "0  0Tco :(374.64, 233.77499999999998)\n",
      "1              0Bco :(430.08, 218.43)\n",
      "2                          0Content :\n",
      "                                    0\n",
      "0  0Tco :(430.08, 233.77499999999998)\n",
      "1              0Bco :(491.64, 218.43)\n",
      "2                          0Content :\n",
      "                                    0\n",
      "0  0Tco :(120.47812499999999, 218.43)\n",
      "1              0Bco :(164.64, 195.12)\n",
      "2                          0Content :\n",
      "                                    0\n",
      "0              0Tco :(164.64, 218.43)\n",
      "1  0Bco :(204.95999999999998, 195.12)\n",
      "2                          0Content :\n",
      "                                    0\n",
      "0  0Tco :(204.95999999999998, 218.43)\n",
      "1              0Bco :(257.52, 195.12)\n",
      "2                          0Content :\n",
      "                               0\n",
      "0         0Tco :(257.52, 218.43)\n",
      "1          0Bco :(313.2, 195.12)\n",
      "2  0Content :Improved \\nSpeed \\n\n",
      "                                0\n",
      "0           0Tco :(313.2, 218.43)\n",
      "1          0Bco :(374.64, 195.12)\n",
      "2  0Content :Decreased \\nAccel \\n\n",
      "                                0\n",
      "0          0Tco :(374.64, 218.43)\n",
      "1          0Bco :(430.08, 195.12)\n",
      "2  0Content :Eliminate \\nStops \\n\n",
      "                               0\n",
      "0         0Tco :(430.08, 218.43)\n",
      "1         0Bco :(491.64, 195.12)\n",
      "2  0Content :Decreased \\nIdle \\n\n",
      "                                    0\n",
      "0  0Tco :(120.47812499999999, 195.12)\n",
      "1  0Bco :(164.64, 179.51999999999998)\n",
      "2                 0Content :2012_2 \\n\n",
      "                                                0\n",
      "0                          0Tco :(164.64, 195.12)\n",
      "1  0Bco :(204.95999999999998, 179.51999999999998)\n",
      "2                               0Content :3.30 \\n\n",
      "                                    0\n",
      "0  0Tco :(204.95999999999998, 195.12)\n",
      "1  0Bco :(257.52, 179.51999999999998)\n",
      "2                    0Content :1.3 \\n\n",
      "                                   0\n",
      "0             0Tco :(257.52, 195.12)\n",
      "1  0Bco :(313.2, 179.51999999999998)\n",
      "2                  0Content :5.9% \\n\n",
      "                                    0\n",
      "0               0Tco :(313.2, 195.12)\n",
      "1  0Bco :(374.64, 179.51999999999998)\n",
      "2                   0Content :9.5% \\n\n",
      "                                    0\n",
      "0              0Tco :(374.64, 195.12)\n",
      "1  0Bco :(430.08, 179.51999999999998)\n",
      "2                  0Content :29.2% \\n\n",
      "                                    0\n",
      "0              0Tco :(430.08, 195.12)\n",
      "1  0Bco :(491.64, 179.51999999999998)\n",
      "2                  0Content :17.4% \\n\n",
      "                                                0\n",
      "0  0Tco :(120.47812499999999, 179.51999999999998)\n",
      "1                          0Bco :(164.64, 163.92)\n",
      "2                             0Content :2145_1 \\n\n",
      "                                    0\n",
      "0  0Tco :(164.64, 179.51999999999998)\n",
      "1  0Bco :(204.95999999999998, 163.92)\n",
      "2                   0Content :0.68 \\n\n",
      "                                                0\n",
      "0  0Tco :(204.95999999999998, 179.51999999999998)\n",
      "1                          0Bco :(257.52, 163.92)\n",
      "2                               0Content :11.2 \\n\n",
      "                                    0\n",
      "0  0Tco :(257.52, 179.51999999999998)\n",
      "1               0Bco :(313.2, 163.92)\n",
      "2                   0Content :2.4% \\n\n",
      "                                   0\n",
      "0  0Tco :(313.2, 179.51999999999998)\n",
      "1             0Bco :(374.64, 163.92)\n",
      "2                  0Content :0.1% \\n\n",
      "                                    0\n",
      "0  0Tco :(374.64, 179.51999999999998)\n",
      "1              0Bco :(430.08, 163.92)\n",
      "2                   0Content :9.5% \\n\n",
      "                                    0\n",
      "0  0Tco :(430.08, 179.51999999999998)\n",
      "1              0Bco :(491.64, 163.92)\n",
      "2                   0Content :2.7% \\n\n",
      "                                    0\n",
      "0  0Tco :(120.47812499999999, 163.92)\n",
      "1              0Bco :(164.64, 148.56)\n",
      "2                 0Content :4234_1 \\n\n",
      "                                    0\n",
      "0              0Tco :(164.64, 163.92)\n",
      "1  0Bco :(204.95999999999998, 148.56)\n",
      "2                   0Content :0.59 \\n\n",
      "                                    0\n",
      "0  0Tco :(204.95999999999998, 163.92)\n",
      "1              0Bco :(257.52, 148.56)\n",
      "2                   0Content :58.7 \\n\n",
      "                        0\n",
      "0  0Tco :(257.52, 163.92)\n",
      "1   0Bco :(313.2, 148.56)\n",
      "2       0Content :8.5% \\n\n",
      "                        0\n",
      "0   0Tco :(313.2, 163.92)\n",
      "1  0Bco :(374.64, 148.56)\n",
      "2       0Content :1.3% \\n\n",
      "                        0\n",
      "0  0Tco :(374.64, 163.92)\n",
      "1  0Bco :(430.08, 148.56)\n",
      "2       0Content :8.5% \\n\n",
      "                        0\n",
      "0  0Tco :(430.08, 163.92)\n",
      "1  0Bco :(491.64, 148.56)\n",
      "2       0Content :3.3% \\n\n",
      "                                    0\n",
      "0  0Tco :(120.47812499999999, 148.56)\n",
      "1              0Bco :(164.64, 132.96)\n",
      "2                 0Content :2032_2 \\n\n",
      "                                    0\n",
      "0              0Tco :(164.64, 148.56)\n",
      "1  0Bco :(204.95999999999998, 132.96)\n",
      "2                   0Content :0.17 \\n\n",
      "                                    0\n",
      "0  0Tco :(204.95999999999998, 148.56)\n",
      "1              0Bco :(257.52, 132.96)\n",
      "2                   0Content :57.8 \\n\n",
      "                        0\n",
      "0  0Tco :(257.52, 148.56)\n",
      "1   0Bco :(313.2, 132.96)\n",
      "2      0Content :21.7% \\n\n",
      "                        0\n",
      "0   0Tco :(313.2, 148.56)\n",
      "1  0Bco :(374.64, 132.96)\n",
      "2       0Content :0.3% \\n\n",
      "                        0\n",
      "0  0Tco :(374.64, 148.56)\n",
      "1  0Bco :(430.08, 132.96)\n",
      "2       0Content :2.7% \\n\n",
      "                        0\n",
      "0  0Tco :(430.08, 148.56)\n",
      "1  0Bco :(491.64, 132.96)\n",
      "2       0Content :1.2% \\n\n",
      "                                    0\n",
      "0  0Tco :(120.47812499999999, 132.96)\n",
      "1              0Bco :(164.64, 117.24)\n",
      "2                 0Content :4171_1 \\n\n",
      "                                    0\n",
      "0              0Tco :(164.64, 132.96)\n",
      "1  0Bco :(204.95999999999998, 117.24)\n",
      "2                   0Content :0.07 \\n\n",
      "                                    0\n",
      "0  0Tco :(204.95999999999998, 132.96)\n",
      "1              0Bco :(257.52, 117.24)\n",
      "2                  0Content :173.9 \\n\n",
      "                        0\n",
      "0  0Tco :(257.52, 132.96)\n",
      "1   0Bco :(313.2, 117.24)\n",
      "2      0Content :58.1% \\n\n",
      "                        0\n",
      "0   0Tco :(313.2, 132.96)\n",
      "1  0Bco :(374.64, 117.24)\n",
      "2       0Content :1.6% \\n\n",
      "                        0\n",
      "0  0Tco :(374.64, 132.96)\n",
      "1  0Bco :(430.08, 117.24)\n",
      "2       0Content :2.1% \\n\n",
      "                        0\n",
      "0  0Tco :(430.08, 132.96)\n",
      "1  0Bco :(491.64, 117.24)\n",
      "2       0Content :0.5% \\n\n"
     ]
    }
   ],
   "source": [
    "Df_Data = pd.DataFrame([str(0),str(0),str(0)])\n",
    "for t in tables:\n",
    "    for row in t.cells:\n",
    "        for cell in row:\n",
    "            co = [\"Tco :\" + str(cell.lt),\"Bco :\" + str(cell.rb),\"Content :\" + str(cell.text)]\n",
    "            \n",
    "            Df_Data1 = Df_Data + pd.DataFrame(co)\n",
    "            print(Df_Data1)\n",
    "            \n",
    "\n",
    "            Df_Data1.to_json(\"foox.json\")\n",
    "\n",
    "            \n"
   ]
  },
  {
   "cell_type": "code",
   "execution_count": 59,
   "metadata": {},
   "outputs": [
    {
     "ename": "AttributeError",
     "evalue": "module 'matplotlib' has no attribute 'show'",
     "output_type": "error",
     "traceback": [
      "\u001b[1;31m---------------------------------------------------------------------------\u001b[0m",
      "\u001b[1;31mAttributeError\u001b[0m                            Traceback (most recent call last)",
      "\u001b[1;32m<ipython-input-59-7e455ba5b5a4>\u001b[0m in \u001b[0;36m<module>\u001b[1;34m()\u001b[0m\n\u001b[0;32m      1\u001b[0m \u001b[0mcamelot\u001b[0m\u001b[1;33m.\u001b[0m\u001b[0mplot\u001b[0m\u001b[1;33m(\u001b[0m\u001b[0mtables\u001b[0m\u001b[1;33m[\u001b[0m\u001b[1;36m0\u001b[0m\u001b[1;33m]\u001b[0m\u001b[1;33m,\u001b[0m \u001b[0mkind\u001b[0m\u001b[1;33m=\u001b[0m\u001b[1;34m'text'\u001b[0m\u001b[1;33m)\u001b[0m\u001b[1;33m\u001b[0m\u001b[0m\n\u001b[1;32m----> 2\u001b[1;33m \u001b[0mplt\u001b[0m\u001b[1;33m.\u001b[0m\u001b[0mshow\u001b[0m\u001b[1;33m(\u001b[0m\u001b[1;33m)\u001b[0m\u001b[1;33m\u001b[0m\u001b[0m\n\u001b[0m",
      "\u001b[1;31mAttributeError\u001b[0m: module 'matplotlib' has no attribute 'show'"
     ]
    },
    {
     "data": {
      "image/png": "[encoded data removed]",
      "text/plain": [
       "<Figure size 432x288 with 1 Axes>"
      ]
     },
     "metadata": {
      "needs_background": "light"
     },
     "output_type": "display_data"
    }
   ],
   "source": [
    "camelot.plot(tables[0], kind='text')\n",
    "plt.show()\n"
   ]
  },
  {
   "cell_type": "code",
   "execution_count": null,
   "metadata": {},
   "outputs": [],
   "source": []
  }
 ],
 "metadata": {
  "kernelspec": {
   "display_name": "Python 3",
   "language": "python",
   "name": "python3"
  },
  "language_info": {
   "codemirror_mode": {
    "name": "ipython",
    "version": 3
   },
   "file_extension": ".py",
   "mimetype": "text/x-python",
   "name": "python",
   "nbconvert_exporter": "python",
   "pygments_lexer": "ipython3",
   "version": "3.7.0"
  }
 },
 "nbformat": 4,
 "nbformat_minor": 2
}
